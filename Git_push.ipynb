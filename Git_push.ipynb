{
 "cells": [
  {
   "cell_type": "code",
   "execution_count": 4,
   "metadata": {},
   "outputs": [],
   "source": [
    "!git config --global user.email =\"markoaldred@gmail.com\"\n",
    "!git config --global user.name =\"markoaldred\""
   ]
  },
  {
   "cell_type": "code",
   "execution_count": null,
   "metadata": {},
   "outputs": [],
   "source": [
    "git config credential.helper store"
   ]
  },
  {
   "cell_type": "code",
   "execution_count": 3,
   "metadata": {},
   "outputs": [
    {
     "name": "stdout",
     "output_type": "stream",
     "text": [
      "[master 4c9608b] commit2\n",
      " 3 files changed, 18 insertions(+), 3 deletions(-)\n",
      "Counting objects: 28, done.\n",
      "Delta compression using up to 8 threads.\n",
      "Compressing objects: 100% (21/21), done.\n",
      "Writing objects: 100% (28/28), 148.39 KiB | 3.45 MiB/s, done.\n",
      "Total 28 (delta 7), reused 0 (delta 0)\n",
      "remote: Resolving deltas: 100% (7/7), completed with 3 local objects.\u001b[K\n",
      "remote: This repository moved. Please use the new location:\u001b[K\n",
      "remote:   https://github.com/markoaldred/exerList.git\u001b[K\n",
      "To https://github.com/markoaldred/exerlist\n",
      "   efcff95..4c9608b  master -> master\n"
     ]
    }
   ],
   "source": [
    "!git add .\n",
    "!git commit -m commit2\n",
    "!git push"
   ]
  }
 ],
 "metadata": {
  "kernelspec": {
   "display_name": "Python 3",
   "language": "python",
   "name": "python3"
  },
  "language_info": {
   "codemirror_mode": {
    "name": "ipython",
    "version": 3
   },
   "file_extension": ".py",
   "mimetype": "text/x-python",
   "name": "python",
   "nbconvert_exporter": "python",
   "pygments_lexer": "ipython3",
   "version": "3.7.8"
  }
 },
 "nbformat": 4,
 "nbformat_minor": 4
}
