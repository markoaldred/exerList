{
 "cells": [
  {
   "cell_type": "code",
   "execution_count": 4,
   "metadata": {},
   "outputs": [
    {
     "name": "stdout",
     "output_type": "stream",
     "text": [
      "[master b391334] commit2\n",
      " 6 files changed, 139 insertions(+), 199 deletions(-)\n",
      " create mode 100644 .ipynb_checkpoints/Git_push-checkpoint.ipynb\n",
      " delete mode 100644 .ipynb_checkpoints/Trial-checkpoint.ipynb\n",
      " create mode 100644 Git_push.ipynb\n",
      " delete mode 100644 Trial.ipynb\n",
      "Counting objects: 12, done.\n",
      "Delta compression using up to 8 threads.\n",
      "Compressing objects: 100% (9/9), done.\n",
      "Writing objects: 100% (12/12), 1.93 KiB | 495.00 KiB/s, done.\n",
      "Total 12 (delta 4), reused 0 (delta 0)\n",
      "remote: Resolving deltas: 100% (4/4), completed with 3 local objects.\u001b[K\n",
      "remote: This repository moved. Please use the new location:\u001b[K\n",
      "remote:   https://github.com/markoaldred/exerList.git\u001b[K\n",
      "To https://github.com/markoaldred/exerlist\n",
      "   4c9608b..b391334  master -> master\n"
     ]
    }
   ],
   "source": [
    "!git add .\n",
    "!git commit -m commit2\n",
    "!git push"
   ]
  },
  {
   "cell_type": "code",
   "execution_count": 4,
   "metadata": {},
   "outputs": [],
   "source": [
    "!git config --global user.email =\"markoaldred@gmail.com\"\n",
    "!git config --global user.name =\"markoaldred\""
   ]
  },
  {
   "cell_type": "code",
   "execution_count": null,
   "metadata": {},
   "outputs": [],
   "source": [
    "git config credential.helper store"
   ]
  }
 ],
 "metadata": {
  "kernelspec": {
   "display_name": "Python 3",
   "language": "python",
   "name": "python3"
  },
  "language_info": {
   "codemirror_mode": {
    "name": "ipython",
    "version": 3
   },
   "file_extension": ".py",
   "mimetype": "text/x-python",
   "name": "python",
   "nbconvert_exporter": "python",
   "pygments_lexer": "ipython3",
   "version": "3.7.8"
  }
 },
 "nbformat": 4,
 "nbformat_minor": 4
}
