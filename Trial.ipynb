{
 "cells": [
  {
   "cell_type": "code",
   "execution_count": 2,
   "metadata": {},
   "outputs": [
    {
     "name": "stdout",
     "output_type": "stream",
     "text": [
      "[master 085bb30] commit2\r\n",
      " 8 files changed, 180 insertions(+), 4 deletions(-)\r\n",
      " create mode 100644 .cache/jedi/CPython-37-33/593d51111df2a7984c5d14ec09b1fb4e1c5fa86889ca077d5efe8caf989e2ebc-823a873ed0c9179001521fbc584f598494b95078edd4841e165d8b30df424d0a.pkl\r\n",
      " create mode 100644 .cache/jedi/CPython-37-33/593d51111df2a7984c5d14ec09b1fb4e1c5fa86889ca077d5efe8caf989e2ebc-eebabc0f94c4cfc4192ee9a595540a510b3459691e10f7f70f3528cfa295ba73.pkl\r\n",
      " create mode 100644 .git-credentials\r\n",
      " create mode 100644 .gitconfig\r\n"
     ]
    }
   ],
   "source": [
    "!git add .\n",
    "!git commit -m commit2\n",
    "!git push"
   ]
  },
  {
   "cell_type": "code",
   "execution_count": 4,
   "metadata": {},
   "outputs": [],
   "source": [
    "!git config --global user.email =\"markoaldred@gmail.com\"\n",
    "!git config --global user.name =\"markoaldred\""
   ]
  },
  {
   "cell_type": "code",
   "execution_count": 7,
   "metadata": {},
   "outputs": [
    {
     "name": "stdout",
     "output_type": "stream",
     "text": [
      "On branch master\r\n",
      "Your branch is ahead of 'origin/master' by 1 commit.\r\n",
      "  (use \"git push\" to publish your local commits)\r\n",
      "\r\n",
      "Changes not staged for commit:\r\n",
      "\t\u001b[31mmodified:   .ipython/profile_default/history.sqlite\u001b[m\r\n",
      "\t\u001b[31mmodified:   .local/share/jupyter/nbsignatures.db\u001b[m\r\n",
      "\t\u001b[31mmodified:   Trial.ipynb\u001b[m\r\n",
      "\r\n",
      "Untracked files:\r\n",
      "\t\u001b[31m.cache/jedi/CPython-37-33/593d51111df2a7984c5d14ec09b1fb4e1c5fa86889ca077d5efe8caf989e2ebc-823a873ed0c9179001521fbc584f598494b95078edd4841e165d8b30df424d0a.pkl\u001b[m\r\n",
      "\t\u001b[31m.cache/jedi/CPython-37-33/593d51111df2a7984c5d14ec09b1fb4e1c5fa86889ca077d5efe8caf989e2ebc-eebabc0f94c4cfc4192ee9a595540a510b3459691e10f7f70f3528cfa295ba73.pkl\u001b[m\r\n",
      "\t\u001b[31m.gitconfig\u001b[m\r\n",
      "\r\n",
      "no changes added to commit\r\n"
     ]
    }
   ],
   "source": [
    "!git commit -m commit"
   ]
  },
  {
   "cell_type": "code",
   "execution_count": null,
   "metadata": {},
   "outputs": [
    {
     "name": "stdout",
     "output_type": "stream",
     "text": [
      "Username for 'https://github.com': "
     ]
    }
   ],
   "source": [
    "!git push markoaldred"
   ]
  }
 ],
 "metadata": {
  "kernelspec": {
   "display_name": "Python 3",
   "language": "python",
   "name": "python3"
  },
  "language_info": {
   "codemirror_mode": {
    "name": "ipython",
    "version": 3
   },
   "file_extension": ".py",
   "mimetype": "text/x-python",
   "name": "python",
   "nbconvert_exporter": "python",
   "pygments_lexer": "ipython3",
   "version": "3.7.8"
  }
 },
 "nbformat": 4,
 "nbformat_minor": 4
}
